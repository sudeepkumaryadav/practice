{
  "nbformat": 4,
  "nbformat_minor": 0,
  "metadata": {
    "colab": {
      "name": "Untitled8.ipynb",
      "provenance": []
    },
    "kernelspec": {
      "name": "python3",
      "display_name": "Python 3"
    },
    "language_info": {
      "name": "python"
    }
  },
  "cells": [
    {
      "cell_type": "code",
      "metadata": {
        "colab": {
          "base_uri": "https://localhost:8080/"
        },
        "id": "ioCJe62EQwkV",
        "outputId": "7ba59b4f-7d45-4c88-fdd1-7c07091da4f2"
      },
      "source": [
        "import pandas as pd\n",
        "import numpy as np\n",
        "# creating initial dataframe\n",
        "bridge_types = ('Arch','Beam','Truss','Cantilever','Tied Arch','Suspension','Cable')\n",
        "bridge_df = pd.DataFrame(bridge_types, columns=['Bridge_Types'])\n",
        "# generate binary values using get_dummies\n",
        "dum_df = pd.get_dummies(bridge_df, columns=[\"Bridge_Types\"], prefix=[\"Type_is\"] )\n",
        "# merge with main df bridge_df on key values\n",
        "bridge_df = bridge_df.join(dum_df)\n",
        "bridge_df\n",
        "\n",
        "\n",
        "import statsmodels.api as sm\n",
        "\n",
        "new=sm.add_constant(bridge_df)\n",
        "\n",
        "print(new)"
      ],
      "execution_count": null,
      "outputs": [
        {
          "output_type": "stream",
          "text": [
            "/usr/local/lib/python3.7/dist-packages/statsmodels/tools/_testing.py:19: FutureWarning: pandas.util.testing is deprecated. Use the functions in the public API at pandas.testing instead.\n",
            "  import pandas.util.testing as tm\n"
          ],
          "name": "stderr"
        },
        {
          "output_type": "stream",
          "text": [
            "   const Bridge_Types  ...  Type_is_Tied Arch  Type_is_Truss\n",
            "0    1.0         Arch  ...                  0              0\n",
            "1    1.0         Beam  ...                  0              0\n",
            "2    1.0        Truss  ...                  0              1\n",
            "3    1.0   Cantilever  ...                  0              0\n",
            "4    1.0    Tied Arch  ...                  1              0\n",
            "5    1.0   Suspension  ...                  0              0\n",
            "6    1.0        Cable  ...                  0              0\n",
            "\n",
            "[7 rows x 9 columns]\n"
          ],
          "name": "stdout"
        }
      ]
    },
    {
      "cell_type": "code",
      "metadata": {
        "colab": {
          "base_uri": "https://localhost:8080/"
        },
        "id": "MHy9QXgD6ipM",
        "outputId": "ef3b3f2e-9f0a-491d-e1bf-ce1521ddb8fb"
      },
      "source": [
        "print(bridge_df[(bridge_df['Bridge_Types']==\"Arch\")])"
      ],
      "execution_count": null,
      "outputs": [
        {
          "output_type": "stream",
          "text": [
            "  Bridge_Types  Type_is_Arch  ...  Type_is_Tied Arch  Type_is_Truss\n",
            "0         Arch             1  ...                  0              0\n",
            "\n",
            "[1 rows x 8 columns]\n"
          ],
          "name": "stdout"
        }
      ]
    },
    {
      "cell_type": "code",
      "metadata": {
        "colab": {
          "base_uri": "https://localhost:8080/"
        },
        "id": "OMDvU8GkSOXV",
        "outputId": "d80433aa-af1c-44b9-cbdd-f05315f0ba09"
      },
      "source": [
        "data=pd.DataFrame({\"A\":(\"sudeep\",\"Sam\",\"sameer\"),\"B\":(1,2,4),\"C\":(\"abc\",\"def\",\"sdf\")})\n",
        "\n",
        "A=(\"a\", \"b\",\"c\")\n",
        "B=[1,2,3]\n",
        "\n",
        "print(type(data))\n",
        "print(type(A))\n",
        "print(type(B))\n",
        "\n",
        "print(data.iloc[:,0]) #dataframe starts with 0\n",
        "print(A[0])  #tuple is always called with [] and starts with 0\n",
        "print(B[0]) #list is also called with [] and starts with zero but declared with []\n",
        "\n"
      ],
      "execution_count": null,
      "outputs": [
        {
          "output_type": "stream",
          "text": [
            "<class 'pandas.core.frame.DataFrame'>\n",
            "<class 'tuple'>\n",
            "<class 'list'>\n",
            "0    sudeep\n",
            "1       Sam\n",
            "2    sameer\n",
            "Name: A, dtype: object\n",
            "a\n",
            "1\n"
          ],
          "name": "stdout"
        }
      ]
    }
  ]
}