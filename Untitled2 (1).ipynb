{
  "nbformat": 4,
  "nbformat_minor": 0,
  "metadata": {
    "colab": {
      "name": "Untitled2.ipynb",
      "provenance": []
    },
    "kernelspec": {
      "name": "python3",
      "display_name": "Python 3"
    }
  },
  "cells": [
    {
      "cell_type": "code",
      "metadata": {
        "id": "xBCJjzAOd3Xt"
      },
      "source": [
        "import numpy as np\n",
        "import pandas as pd\n",
        "import matplotlib.pyplot as plt\n",
        "import datetime as dt\n",
        "from datetime import datetime\n",
        "\n",
        "from keras.callbacks import EarlyStopping, ReduceLROnPlateau, ModelCheckpoint, TensorBoard"
      ],
      "execution_count": null,
      "outputs": []
    },
    {
      "cell_type": "code",
      "metadata": {
        "colab": {
          "base_uri": "https://localhost:8080/"
        },
        "id": "KQ0ZA7OLeAo8",
        "outputId": "c5f858f3-26bb-43ab-fa3b-77dbc75d3a1b"
      },
      "source": [
        "dataset_train = pd.read_csv('CHH.csv')\n",
        "\n",
        "# Select features (columns) to be involved intro training and predictions\n",
        "cols = list(dataset_train)[1:6]\n",
        "\n",
        "# Extract dates (will be used in visualization)\n",
        "datelist_train = list(dataset_train['Date'])\n",
        "datelist_train = [dt.datetime.strptime(date, '%Y-%m-%d').date() for date in datelist_train]\n",
        "\n",
        "print('Training set shape == {}'.format(dataset_train.shape))\n",
        "print('All timestamps == {}'.format(len(datelist_train)))\n",
        "print('Featured selected: {}'.format(cols))"
      ],
      "execution_count": null,
      "outputs": [
        {
          "output_type": "stream",
          "text": [
            "Training set shape == (1259, 7)\n",
            "All timestamps == 1259\n",
            "Featured selected: ['Open', 'High', 'Low', 'Close', 'Adj Close']\n"
          ],
          "name": "stdout"
        }
      ]
    },
    {
      "cell_type": "code",
      "metadata": {
        "colab": {
          "base_uri": "https://localhost:8080/"
        },
        "id": "vM1gVWVbeJ-4",
        "outputId": "ae23d84a-3633-4d4b-84e7-3a8106594582"
      },
      "source": [
        "dataset_train = dataset_train[cols].astype(str)\n",
        "for i in cols:\n",
        "    for j in range(0, len(dataset_train)):\n",
        "        dataset_train[i][j] = dataset_train[i][j].replace(',', '')\n",
        "\n",
        "dataset_train = dataset_train.astype(float)\n",
        "\n",
        "# Using multiple features (predictors)\n",
        "training_set = dataset_train.to_numpy()\n",
        "\n",
        "print('Shape of training set == {}.'.format(training_set.shape))\n",
        "training_set"
      ],
      "execution_count": null,
      "outputs": [
        {
          "output_type": "stream",
          "text": [
            "Shape of training set == (1259, 5).\n"
          ],
          "name": "stdout"
        },
        {
          "output_type": "execute_result",
          "data": {
            "text/plain": [
              "array([[ 51.029999,  51.57    ,  50.93    ,  51.16    ,  48.264786],\n",
              "       [ 51.5     ,  51.950001,  50.689999,  51.43    ,  48.519512],\n",
              "       [ 51.09    ,  51.09    ,  50.43    ,  50.599998,  47.927513],\n",
              "       ...,\n",
              "       [101.989998, 102.870003, 100.910004, 101.510002, 101.510002],\n",
              "       [102.559998, 105.339996, 102.559998, 103.919998, 103.919998],\n",
              "       [104.589996, 104.589996, 103.470001, 104.050003, 104.050003]])"
            ]
          },
          "metadata": {
            "tags": []
          },
          "execution_count": 7
        }
      ]
    },
    {
      "cell_type": "code",
      "metadata": {
        "colab": {
          "base_uri": "https://localhost:8080/"
        },
        "id": "xBPWDPKJenF6",
        "outputId": "d21b45a0-c1f4-40c1-97c4-66ea972f635e"
      },
      "source": [
        "from sklearn.preprocessing import StandardScaler\n",
        "\n",
        "sc = StandardScaler()\n",
        "training_set_scaled = sc.fit_transform(training_set)\n",
        "\n",
        "sc_predict = StandardScaler()\n",
        "sc_predict.fit_transform(training_set[:, 0:1])"
      ],
      "execution_count": null,
      "outputs": [
        {
          "output_type": "execute_result",
          "data": {
            "text/plain": [
              "array([[-1.33174217],\n",
              "       [-1.30342795],\n",
              "       [-1.32812753],\n",
              "       ...,\n",
              "       [ 1.73823556],\n",
              "       [ 1.77257401],\n",
              "       [ 1.89486696]])"
            ]
          },
          "metadata": {
            "tags": []
          },
          "execution_count": 8
        }
      ]
    },
    {
      "cell_type": "code",
      "metadata": {
        "colab": {
          "base_uri": "https://localhost:8080/"
        },
        "id": "9Fo_1ifOeq--",
        "outputId": "8489db47-d02d-4c13-bd34-d457f532e65c"
      },
      "source": [
        "\n",
        "# Creating a data structure with 90 timestamps and 1 output\n",
        "X_train = []\n",
        "y_train = []\n",
        "\n",
        "n_future = 90   # Number of days we want top predict into the future\n",
        "n_past = 120     # Number of past days we want to use to predict the future\n",
        "\n",
        "for i in range(n_past, len(training_set_scaled) - n_future +1):\n",
        "    X_train.append(training_set_scaled[i - n_past:i, 0:dataset_train.shape[1] - 1])\n",
        "    y_train.append(training_set_scaled[i + n_future - 1:i + n_future, 0])\n",
        "\n",
        "X_train, y_train = np.array(X_train), np.array(y_train)\n",
        "\n",
        "print('X_train shape == {}.'.format(X_train.shape))\n",
        "print('y_train shape == {}.'.format(y_train.shape))"
      ],
      "execution_count": null,
      "outputs": [
        {
          "output_type": "stream",
          "text": [
            "X_train shape == (1050, 120, 4).\n",
            "y_train shape == (1050, 1).\n"
          ],
          "name": "stdout"
        }
      ]
    },
    {
      "cell_type": "code",
      "metadata": {
        "id": "QAEanLdiex6t"
      },
      "source": [
        "\n",
        "# Import Libraries and packages from Keras\n",
        "from keras.models import Sequential\n",
        "from keras.layers import Dense\n",
        "from keras.layers import LSTM\n",
        "from keras.layers import Dropout\n",
        "from keras.optimizers import Adam"
      ],
      "execution_count": null,
      "outputs": []
    },
    {
      "cell_type": "code",
      "metadata": {
        "id": "CvIl4NYSe1uk"
      },
      "source": [
        "# Initializing the Neural Network based on LSTM\n",
        "model = Sequential()\n",
        "\n",
        "# Adding 1st LSTM layer\n",
        "model.add(LSTM(units=64, return_sequences=True, input_shape=(n_past, dataset_train.shape[1]-1)))\n",
        "\n",
        "# Adding 2nd LSTM layer\n",
        "model.add(LSTM(units=10, return_sequences=False))\n",
        "\n",
        "# Adding Dropout\n",
        "model.add(Dropout(0.25))\n",
        "\n",
        "# Output layer\n",
        "model.add(Dense(units=1, activation='linear'))\n",
        "\n",
        "# Compiling the Neural Network\n",
        "model.compile(optimizer = Adam(learning_rate=0.01), loss='mean_squared_error')"
      ],
      "execution_count": null,
      "outputs": []
    },
    {
      "cell_type": "code",
      "metadata": {
        "colab": {
          "base_uri": "https://localhost:8080/"
        },
        "id": "EbgTc7wre7yL",
        "outputId": "34bd573d-d276-48b6-82b6-9fa70bf9e9a1"
      },
      "source": [
        "\n",
        "%%time\n",
        "es = EarlyStopping(monitor='val_loss', min_delta=1e-10, patience=10, verbose=1)\n",
        "rlr = ReduceLROnPlateau(monitor='val_loss', factor=0.5, patience=10, verbose=1)\n",
        "mcp = ModelCheckpoint(filepath='weights.h5', monitor='val_loss', verbose=1, save_best_only=True, save_weights_only=True)\n",
        "\n",
        "tb = TensorBoard('logs')\n",
        "\n",
        "history = model.fit(X_train, y_train, shuffle=True, epochs=30, callbacks=[es, rlr, mcp, tb], validation_split=0.2, verbose=1, batch_size=256)"
      ],
      "execution_count": null,
      "outputs": [
        {
          "output_type": "stream",
          "text": [
            "Epoch 1/30\n",
            "4/4 [==============================] - 5s 706ms/step - loss: 0.5206 - val_loss: 1.1036\n",
            "\n",
            "Epoch 00001: val_loss improved from inf to 1.10359, saving model to weights.h5\n",
            "Epoch 2/30\n",
            "4/4 [==============================] - 1s 282ms/step - loss: 0.2505 - val_loss: 1.8714\n",
            "\n",
            "Epoch 00002: val_loss did not improve from 1.10359\n",
            "Epoch 3/30\n",
            "4/4 [==============================] - 1s 293ms/step - loss: 0.1632 - val_loss: 2.0430\n",
            "\n",
            "Epoch 00003: val_loss did not improve from 1.10359\n",
            "Epoch 4/30\n",
            "4/4 [==============================] - 2s 565ms/step - loss: 0.1418 - val_loss: 2.0598\n",
            "\n",
            "Epoch 00004: val_loss did not improve from 1.10359\n",
            "Epoch 5/30\n",
            "4/4 [==============================] - 2s 486ms/step - loss: 0.1533 - val_loss: 1.5186\n",
            "\n",
            "Epoch 00005: val_loss did not improve from 1.10359\n",
            "Epoch 6/30\n",
            "4/4 [==============================] - 2s 480ms/step - loss: 0.1400 - val_loss: 1.9392\n",
            "\n",
            "Epoch 00006: val_loss did not improve from 1.10359\n",
            "Epoch 7/30\n",
            "4/4 [==============================] - 2s 476ms/step - loss: 0.1373 - val_loss: 2.0022\n",
            "\n",
            "Epoch 00007: val_loss did not improve from 1.10359\n",
            "Epoch 8/30\n",
            "4/4 [==============================] - 2s 484ms/step - loss: 0.1415 - val_loss: 1.5007\n",
            "\n",
            "Epoch 00008: val_loss did not improve from 1.10359\n",
            "Epoch 9/30\n",
            "4/4 [==============================] - 1s 285ms/step - loss: 0.1454 - val_loss: 1.5510\n",
            "\n",
            "Epoch 00009: val_loss did not improve from 1.10359\n",
            "Epoch 10/30\n",
            "4/4 [==============================] - 1s 285ms/step - loss: 0.1336 - val_loss: 1.8821\n",
            "\n",
            "Epoch 00010: val_loss did not improve from 1.10359\n",
            "Epoch 11/30\n",
            "4/4 [==============================] - 1s 291ms/step - loss: 0.1368 - val_loss: 1.8208\n",
            "\n",
            "Epoch 00011: ReduceLROnPlateau reducing learning rate to 0.004999999888241291.\n",
            "\n",
            "Epoch 00011: val_loss did not improve from 1.10359\n",
            "Epoch 00011: early stopping\n",
            "CPU times: user 24.5 s, sys: 1.26 s, total: 25.8 s\n",
            "Wall time: 21.3 s\n"
          ],
          "name": "stdout"
        }
      ]
    },
    {
      "cell_type": "code",
      "metadata": {
        "id": "2SVQaJK1fSkY"
      },
      "source": [
        "\n",
        "# Generate list of sequence of days for predictions\n",
        "datelist_future = pd.date_range(datelist_train[-1], periods=n_future, freq='1d').tolist()\n",
        "\n",
        "'''\n",
        "Remeber, we have datelist_train from begining.\n",
        "'''\n",
        "\n",
        "# Convert Pandas Timestamp to Datetime object (for transformation) --> FUTURE\n",
        "datelist_future_ = []\n",
        "for this_timestamp in datelist_future:\n",
        "    datelist_future_.append(this_timestamp.date())"
      ],
      "execution_count": null,
      "outputs": []
    },
    {
      "cell_type": "code",
      "metadata": {
        "id": "aQAzMFgMfWyW"
      },
      "source": [
        "# Perform predictions\n",
        "predictions_future = model.predict(X_train[-n_future:])\n",
        "\n",
        "predictions_train = model.predict(X_train[n_past:])"
      ],
      "execution_count": null,
      "outputs": []
    },
    {
      "cell_type": "code",
      "metadata": {
        "colab": {
          "base_uri": "https://localhost:8080/",
          "height": 491
        },
        "id": "X23DjXSdfYtg",
        "outputId": "004b0b74-acdd-4ad6-c511-99978c7db3d9"
      },
      "source": [
        "# Inverse the predictions to original measurements\n",
        "\n",
        "# ---> Special function: convert <datetime.date> to <Timestamp>\n",
        "def datetime_to_timestamp(x):\n",
        "    '''\n",
        "        x : a given datetime value (datetime.date)\n",
        "    '''\n",
        "    return datetime.strptime(x.strftime('%Y%m%d'), '%Y%m%d')\n",
        "\n",
        "\n",
        "y_pred_future = sc_predict.inverse_transform(predictions_future)\n",
        "y_pred_train = sc_predict.inverse_transform(predictions_train)\n",
        "\n",
        "dfsudeep=pd.DataFrame(y_pred_future)\n",
        "dfsudeep.to_csv('/bin/sudeep')\n",
        "\n",
        "PREDICTIONS_FUTURE = pd.DataFrame(y_pred_future, columns=['Open']).set_index(pd.Series(datelist_future))\n",
        "PREDICTION_TRAIN = pd.DataFrame(y_pred_train, columns=['Open']).set_index(pd.Series(datelist_train[2 * n_past + n_future -1:]))\n",
        "\n",
        "# Convert <datetime.date> to <Timestamp> for PREDCITION_TRAIN\n",
        "PREDICTION_TRAIN.index = PREDICTION_TRAIN.index.to_series().apply(datetime_to_timestamp)\n",
        "\n",
        "PREDICTION_TRAIN.head(15)"
      ],
      "execution_count": null,
      "outputs": [
        {
          "output_type": "execute_result",
          "data": {
            "text/html": [
              "<div>\n",
              "<style scoped>\n",
              "    .dataframe tbody tr th:only-of-type {\n",
              "        vertical-align: middle;\n",
              "    }\n",
              "\n",
              "    .dataframe tbody tr th {\n",
              "        vertical-align: top;\n",
              "    }\n",
              "\n",
              "    .dataframe thead th {\n",
              "        text-align: right;\n",
              "    }\n",
              "</style>\n",
              "<table border=\"1\" class=\"dataframe\">\n",
              "  <thead>\n",
              "    <tr style=\"text-align: right;\">\n",
              "      <th></th>\n",
              "      <th>Open</th>\n",
              "    </tr>\n",
              "  </thead>\n",
              "  <tbody>\n",
              "    <tr>\n",
              "      <th>2017-04-19</th>\n",
              "      <td>63.177559</td>\n",
              "    </tr>\n",
              "    <tr>\n",
              "      <th>2017-04-20</th>\n",
              "      <td>63.456001</td>\n",
              "    </tr>\n",
              "    <tr>\n",
              "      <th>2017-04-21</th>\n",
              "      <td>63.709236</td>\n",
              "    </tr>\n",
              "    <tr>\n",
              "      <th>2017-04-24</th>\n",
              "      <td>63.964092</td>\n",
              "    </tr>\n",
              "    <tr>\n",
              "      <th>2017-04-25</th>\n",
              "      <td>64.304703</td>\n",
              "    </tr>\n",
              "    <tr>\n",
              "      <th>2017-04-26</th>\n",
              "      <td>64.510216</td>\n",
              "    </tr>\n",
              "    <tr>\n",
              "      <th>2017-04-27</th>\n",
              "      <td>64.629761</td>\n",
              "    </tr>\n",
              "    <tr>\n",
              "      <th>2017-04-28</th>\n",
              "      <td>64.760490</td>\n",
              "    </tr>\n",
              "    <tr>\n",
              "      <th>2017-05-01</th>\n",
              "      <td>64.957947</td>\n",
              "    </tr>\n",
              "    <tr>\n",
              "      <th>2017-05-02</th>\n",
              "      <td>65.175613</td>\n",
              "    </tr>\n",
              "    <tr>\n",
              "      <th>2017-05-03</th>\n",
              "      <td>65.404701</td>\n",
              "    </tr>\n",
              "    <tr>\n",
              "      <th>2017-05-04</th>\n",
              "      <td>65.571831</td>\n",
              "    </tr>\n",
              "    <tr>\n",
              "      <th>2017-05-05</th>\n",
              "      <td>65.686737</td>\n",
              "    </tr>\n",
              "    <tr>\n",
              "      <th>2017-05-08</th>\n",
              "      <td>65.778366</td>\n",
              "    </tr>\n",
              "    <tr>\n",
              "      <th>2017-05-09</th>\n",
              "      <td>65.840393</td>\n",
              "    </tr>\n",
              "  </tbody>\n",
              "</table>\n",
              "</div>"
            ],
            "text/plain": [
              "                 Open\n",
              "2017-04-19  63.177559\n",
              "2017-04-20  63.456001\n",
              "2017-04-21  63.709236\n",
              "2017-04-24  63.964092\n",
              "2017-04-25  64.304703\n",
              "2017-04-26  64.510216\n",
              "2017-04-27  64.629761\n",
              "2017-04-28  64.760490\n",
              "2017-05-01  64.957947\n",
              "2017-05-02  65.175613\n",
              "2017-05-03  65.404701\n",
              "2017-05-04  65.571831\n",
              "2017-05-05  65.686737\n",
              "2017-05-08  65.778366\n",
              "2017-05-09  65.840393"
            ]
          },
          "metadata": {
            "tags": []
          },
          "execution_count": 51
        }
      ]
    },
    {
      "cell_type": "code",
      "metadata": {
        "id": "tknvTCUnYcln"
      },
      "source": [
        "\n",
        "# Parse training set timestamp for better visualization\n",
        "dataset_train = pd.DataFrame(dataset_train, columns=cols)\n",
        "dataset_train.index = datelist_train\n",
        "dataset_train.index = pd.to_datetime(dataset_train.index)"
      ],
      "execution_count": null,
      "outputs": []
    },
    {
      "cell_type": "code",
      "metadata": {
        "colab": {
          "base_uri": "https://localhost:8080/",
          "height": 360
        },
        "id": "rrCz-o6VYjr3",
        "outputId": "3a9cfd9d-739f-4f44-ac39-d4bd8d1975f1"
      },
      "source": [
        "from pylab import rcParams\n",
        "rcParams['figure.figsize'] = 14, 5\n",
        "\n",
        "# Plot parameters\n",
        "START_DATE_FOR_PLOTTING = '2015-12-28'\n",
        "\n",
        "plt.plot(PREDICTIONS_FUTURE.index, PREDICTIONS_FUTURE['Open'], color='r', label='Predicted Stock Price')\n",
        "plt.plot(PREDICTION_TRAIN.loc[START_DATE_FOR_PLOTTING:].index, PREDICTION_TRAIN.loc[START_DATE_FOR_PLOTTING:]['Open'], color='orange', label='Training predictions')\n",
        "plt.plot(dataset_train.loc[START_DATE_FOR_PLOTTING:].index, dataset_train.loc[START_DATE_FOR_PLOTTING:]['Open'], color='b', label='Actual Stock Price')\n",
        "\n",
        "plt.axvline(x = min(PREDICTIONS_FUTURE.index), color='green', linewidth=2, linestyle='--')\n",
        "\n",
        "plt.grid(which='major', color='#cccccc', alpha=0.5)\n",
        "\n",
        "plt.legend(shadow=True)\n",
        "plt.title('Predcitions and Acutal Stock Prices', family='Arial', fontsize=12)\n",
        "plt.xlabel('Timeline', family='Arial', fontsize=10)\n",
        "plt.ylabel('Stock Price Value', family='Arial', fontsize=10)\n",
        "plt.xticks(rotation=45, fontsize=8)\n",
        "plt.show()"
      ],
      "execution_count": null,
      "outputs": [
        {
          "output_type": "display_data",
          "data": {
            "image/png": "[encoded data removed]",
            "text/plain": [
              "<Figure size 1008x360 with 1 Axes>"
            ]
          },
          "metadata": {
            "tags": [],
            "needs_background": "light"
          }
        }
      ]
    }
  ]
}