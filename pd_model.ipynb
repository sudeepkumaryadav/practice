{
  "nbformat": 4,
  "nbformat_minor": 0,
  "metadata": {
    "colab": {
      "name": "pd model.ipynb",
      "provenance": []
    },
    "kernelspec": {
      "name": "python3",
      "display_name": "Python 3"
    },
    "language_info": {
      "name": "python"
    }
  },
  "cells": [
    {
      "cell_type": "code",
      "metadata": {
        "id": "OdZ6Z15OeMQD"
      },
      "source": [
        "import numpy as np\n",
        "import pandas as pd\n",
        "loan_data_backup=pd.read_csv(\"loan_data_2007_2014.csv\")"
      ],
      "execution_count": null,
      "outputs": []
    },
    {
      "cell_type": "code",
      "metadata": {
        "colab": {
          "base_uri": "https://localhost:8080/"
        },
        "id": "H8N4N2ZrfKxG",
        "outputId": "c9131163-fdbd-4d28-91c2-2446b43d9157"
      },
      "source": [
        "loan_data=loan_data_backup.copy()\n",
        "pd.options.display.max_columns= None\n",
        "loan_data.columns.values"
      ],
      "execution_count": null,
      "outputs": [
        {
          "output_type": "execute_result",
          "data": {
            "text/plain": [
              "array(['id', 'member_id', 'loan_amnt', 'funded_amnt', 'funded_amnt_inv',\n",
              "       'term', 'int_rate', 'installment', 'grade', 'sub_grade',\n",
              "       'emp_title', 'emp_length', 'home_ownership', 'annual_inc',\n",
              "       'verification_status', 'issue_d', 'loan_status', 'pymnt_plan',\n",
              "       'url', 'desc', 'purpose', 'title', 'zip_code', 'addr_state', 'dti',\n",
              "       'delinq_2yrs', 'earliest_cr_line', 'inq_last_6mths',\n",
              "       'mths_since_last_delinq', 'mths_since_last_record', 'open_acc',\n",
              "       'pub_rec', 'revol_bal', 'revol_util', 'total_acc',\n",
              "       'initial_list_status', 'out_prncp', 'out_prncp_inv', 'total_pymnt',\n",
              "       'total_pymnt_inv', 'total_rec_prncp', 'total_rec_int',\n",
              "       'total_rec_late_fee', 'recoveries', 'collection_recovery_fee',\n",
              "       'last_pymnt_d', 'last_pymnt_amnt', 'next_pymnt_d',\n",
              "       'last_credit_pull_d', 'collections_12_mths_ex_med',\n",
              "       'mths_since_last_major_derog', 'policy_code', 'application_type',\n",
              "       'annual_inc_joint', 'dti_joint', 'verification_status_joint',\n",
              "       'acc_now_delinq', 'tot_coll_amt', 'tot_cur_bal', 'open_acc_6m',\n",
              "       'open_act_il', 'open_il_12m', 'open_il_24m', 'mths_since_rcnt_il',\n",
              "       'total_bal_il', 'il_util', 'open_rv_12m', 'open_rv_24m',\n",
              "       'max_bal_bc', 'all_util', 'total_rev_hi_lim', 'inq_fi',\n",
              "       'total_cu_tl', 'inq_last_12m', 'acc_open_past_24mths',\n",
              "       'avg_cur_bal', 'bc_open_to_buy', 'bc_util',\n",
              "       'chargeoff_within_12_mths', 'delinq_amnt', 'mo_sin_old_il_acct',\n",
              "       'mo_sin_old_rev_tl_op', 'mo_sin_rcnt_rev_tl_op', 'mo_sin_rcnt_tl',\n",
              "       'mort_acc', 'mths_since_recent_bc', 'mths_since_recent_bc_dlq',\n",
              "       'mths_since_recent_inq', 'mths_since_recent_revol_delinq',\n",
              "       'num_accts_ever_120_pd', 'num_actv_bc_tl', 'num_actv_rev_tl',\n",
              "       'num_bc_sats', 'num_bc_tl', 'num_il_tl', 'num_op_rev_tl',\n",
              "       'num_rev_accts', 'num_rev_tl_bal_gt_0', 'num_sats',\n",
              "       'num_tl_120dpd_2m', 'num_tl_30dpd', 'num_tl_90g_dpd_24m',\n",
              "       'num_tl_op_past_12m', 'pct_tl_nvr_dlq', 'percent_bc_gt_75',\n",
              "       'pub_rec_bankruptcies', 'tax_liens', 'tot_hi_cred_lim',\n",
              "       'total_bal_ex_mort', 'total_bc_limit',\n",
              "       'total_il_high_credit_limit', 'revol_bal_joint',\n",
              "       'sec_app_earliest_cr_line', 'sec_app_inq_last_6mths',\n",
              "       'sec_app_mort_acc', 'sec_app_open_acc', 'sec_app_revol_util',\n",
              "       'sec_app_open_act_il', 'sec_app_num_rev_accts',\n",
              "       'sec_app_chargeoff_within_12_mths',\n",
              "       'sec_app_collections_12_mths_ex_med',\n",
              "       'sec_app_mths_since_last_major_derog', 'hardship_flag',\n",
              "       'hardship_type', 'hardship_reason', 'hardship_status',\n",
              "       'deferral_term', 'hardship_amount', 'hardship_start_date',\n",
              "       'hardship_end_date', 'payment_plan_start_date', 'hardship_length',\n",
              "       'hardship_dpd', 'hardship_loan_status',\n",
              "       'orig_projected_additional_accrued_interest',\n",
              "       'hardship_payoff_balance_amount', 'hardship_last_payment_amount',\n",
              "       'disbursement_method', 'debt_settlement_flag',\n",
              "       'debt_settlement_flag_date', 'settlement_status',\n",
              "       'settlement_date', 'settlement_amount', 'settlement_percentage',\n",
              "       'settlement_term'], dtype=object)"
            ]
          },
          "metadata": {
            "tags": []
          },
          "execution_count": 7
        }
      ]
    },
    {
      "cell_type": "code",
      "metadata": {
        "colab": {
          "base_uri": "https://localhost:8080/"
        },
        "id": "YuHaru94f6q6",
        "outputId": "b4002aa5-59d0-417e-b493-7182bc8d3c16"
      },
      "source": [
        "loan_data.isnull().sum()"
      ],
      "execution_count": null,
      "outputs": [
        {
          "output_type": "execute_result",
          "data": {
            "text/plain": [
              "id                       16545\n",
              "member_id                16545\n",
              "loan_amnt                    0\n",
              "funded_amnt                  0\n",
              "funded_amnt_inv              0\n",
              "                         ...  \n",
              "settlement_status        16545\n",
              "settlement_date          16545\n",
              "settlement_amount        16545\n",
              "settlement_percentage    16545\n",
              "settlement_term          16545\n",
              "Length: 145, dtype: int64"
            ]
          },
          "metadata": {
            "tags": []
          },
          "execution_count": 8
        }
      ]
    },
    {
      "cell_type": "code",
      "metadata": {
        "colab": {
          "base_uri": "https://localhost:8080/"
        },
        "id": "orourWNFgrrx",
        "outputId": "d4705224-01b3-4432-b46b-b1a6155c1424"
      },
      "source": [
        "loan_data['emp_length'].unique()"
      ],
      "execution_count": null,
      "outputs": [
        {
          "output_type": "execute_result",
          "data": {
            "text/plain": [
              "array(['10+ years', '6 years', '4 years', '< 1 year', '2 years',\n",
              "       '9 years', nan, '5 years', '3 years', '7 years', '1 year',\n",
              "       '8 years'], dtype=object)"
            ]
          },
          "metadata": {
            "tags": []
          },
          "execution_count": 9
        }
      ]
    },
    {
      "cell_type": "code",
      "metadata": {
        "id": "cDGceyEyhemY"
      },
      "source": [
        "loan_data['emp_length_int'] = loan_data['emp_length'].str.replace('\\+ years', '')\n",
        "loan_data['emp_length_int'] = loan_data['emp_length_int'].str.replace('< 1 year', str(0))\n",
        "loan_data['emp_length_int'] = loan_data['emp_length_int'].str.replace('n/a',  str(0))\n",
        "loan_data['emp_length_int'] = loan_data['emp_length_int'].str.replace(' years', '')\n",
        "loan_data['emp_length_int'] = loan_data['emp_length_int'].str.replace(' year', '')"
      ],
      "execution_count": null,
      "outputs": []
    },
    {
      "cell_type": "code",
      "metadata": {
        "colab": {
          "base_uri": "https://localhost:8080/"
        },
        "id": "uS8SzZ0PhloG",
        "outputId": "e6b293c8-1809-4a0a-8acf-30558a34be59"
      },
      "source": [
        "loan_data['emp_length_int'] = pd.to_numeric(loan_data['emp_length_int'])\n",
        "loan_data['emp_length_int'].head()"
      ],
      "execution_count": null,
      "outputs": [
        {
          "output_type": "execute_result",
          "data": {
            "text/plain": [
              "0    10.0\n",
              "1    10.0\n",
              "2     6.0\n",
              "3    10.0\n",
              "4    10.0\n",
              "Name: emp_length_int, dtype: float64"
            ]
          },
          "metadata": {
            "tags": []
          },
          "execution_count": 11
        }
      ]
    },
    {
      "cell_type": "code",
      "metadata": {
        "colab": {
          "base_uri": "https://localhost:8080/"
        },
        "id": "wO71JEenhn_N",
        "outputId": "e8b0f210-379e-46da-a71d-eba8f36534ab"
      },
      "source": [
        "print(type(loan_data['earliest_cr_line']))"
      ],
      "execution_count": null,
      "outputs": [
        {
          "output_type": "stream",
          "text": [
            "<class 'pandas.core.series.Series'>\n"
          ],
          "name": "stdout"
        }
      ]
    },
    {
      "cell_type": "code",
      "metadata": {
        "colab": {
          "base_uri": "https://localhost:8080/"
        },
        "id": "04kVKPoypYQU",
        "outputId": "b4d3cb90-d1cb-480a-b26a-b730c28d58b9"
      },
      "source": [
        "loan_data['earliest_cr_line_date'] = pd.to_datetime(loan_data['earliest_cr_line'], format = '%b-%y')\n",
        "loan_data['earliest_cr_line_date'].head()"
      ],
      "execution_count": null,
      "outputs": [
        {
          "output_type": "execute_result",
          "data": {
            "text/plain": [
              "0   2001-04-01\n",
              "1   1987-06-01\n",
              "2   2011-04-01\n",
              "3   2006-02-01\n",
              "4   2000-12-01\n",
              "Name: earliest_cr_line_date, dtype: datetime64[ns]"
            ]
          },
          "metadata": {
            "tags": []
          },
          "execution_count": 15
        }
      ]
    },
    {
      "cell_type": "code",
      "metadata": {
        "colab": {
          "base_uri": "https://localhost:8080/"
        },
        "id": "EMoT6Uewpmnq",
        "outputId": "a2de0438-975d-4c33-dd66-39fd097903a0"
      },
      "source": [
        "pd.to_datetime('2017-12-01') - loan_data['earliest_cr_line_date']"
      ],
      "execution_count": null,
      "outputs": [
        {
          "output_type": "execute_result",
          "data": {
            "text/plain": [
              "0        6088 days\n",
              "1       11141 days\n",
              "2        2436 days\n",
              "3        4321 days\n",
              "4        6209 days\n",
              "           ...    \n",
              "16540    4140 days\n",
              "16541    6970 days\n",
              "16542    6484 days\n",
              "16543    2922 days\n",
              "16544    1705 days\n",
              "Name: earliest_cr_line_date, Length: 16545, dtype: timedelta64[ns]"
            ]
          },
          "metadata": {
            "tags": []
          },
          "execution_count": 16
        }
      ]
    },
    {
      "cell_type": "code",
      "metadata": {
        "id": "lS0PrfEqppj8"
      },
      "source": [
        "loan_data['mths_since_earliest_cr_line'] = round(pd.to_numeric((pd.to_datetime('2017-12-01') - loan_data['earliest_cr_line_date']) / np.timedelta64(1, 'M')))"
      ],
      "execution_count": null,
      "outputs": []
    },
    {
      "cell_type": "code",
      "metadata": {
        "colab": {
          "base_uri": "https://localhost:8080/"
        },
        "id": "c9iIdIyTr6tg",
        "outputId": "9917f88a-2ab2-4660-e2e7-6effb76b460a"
      },
      "source": [
        "loan_data['mths_since_earliest_cr_line'][loan_data['mths_since_earliest_cr_line'] < 0] = loan_data['mths_since_earliest_cr_line'].max()"
      ],
      "execution_count": null,
      "outputs": [
        {
          "output_type": "stream",
          "text": [
            "/usr/local/lib/python3.7/dist-packages/ipykernel_launcher.py:1: SettingWithCopyWarning: \n",
            "A value is trying to be set on a copy of a slice from a DataFrame\n",
            "\n",
            "See the caveats in the documentation: https://pandas.pydata.org/pandas-docs/stable/user_guide/indexing.html#returning-a-view-versus-a-copy\n",
            "  \"\"\"Entry point for launching an IPython kernel.\n"
          ],
          "name": "stderr"
        }
      ]
    }
  ]
}