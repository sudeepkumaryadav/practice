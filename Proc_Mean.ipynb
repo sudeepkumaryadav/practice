{
  "nbformat": 4,
  "nbformat_minor": 0,
  "metadata": {
    "colab": {
      "name": "Proc Mean.ipynb",
      "provenance": [],
      "collapsed_sections": []
    },
    "kernelspec": {
      "name": "python3",
      "display_name": "Python 3"
    },
    "language_info": {
      "name": "python"
    }
  },
  "cells": [
    {
      "cell_type": "code",
      "metadata": {
        "colab": {
          "base_uri": "https://localhost:8080/"
        },
        "id": "z1oKYJS0w6yV",
        "outputId": "21897e82-2d2f-445f-d24c-354fb3357b55"
      },
      "source": [
        "import os\n",
        "path =os.getcwd()\n",
        "print(path)\n",
        "a=1\n",
        "print(type(a))\n"
      ],
      "execution_count": null,
      "outputs": [
        {
          "output_type": "stream",
          "text": [
            "/content\n",
            "<class 'int'>\n"
          ],
          "name": "stdout"
        }
      ]
    },
    {
      "cell_type": "code",
      "metadata": {
        "id": "fptX9lf9S3qd"
      },
      "source": [
        "import pandas as pd\n",
        "import numpy as np\n",
        "data_copy=pd.read_csv(\"/content/sample_data/california_housing_test.csv\")\n",
        "colnames_numerics_only = data_copy.select_dtypes(include=np.number).columns.tolist()\n",
        "data_copy[colnames_numerics_only].describe()\n",
        "\n",
        "def proc_freq(data_char, column_char):\n",
        "  for i in column_char:\n",
        "    datax = data_char(i).value_counts()\n",
        "    datay = pd.DataFrame({'{}'.format(i): datax.index,\n",
        "    'Frequency': datax.values,\n",
        "    'Percent': ((datax.values/datax.values.sum())*100).round(2),\n",
        "    'Cumulative Frequency': datax.values.cumsum(),\n",
        "    'Cumulative Percent': ((datax.values.cumsum()/datax.values.sum())*100).round(2)\n",
        "    })\n",
        "    datay\n",
        "\n",
        "\n",
        "\n"
      ],
      "execution_count": null,
      "outputs": []
    },
    {
      "cell_type": "code",
      "metadata": {
        "colab": {
          "base_uri": "https://localhost:8080/"
        },
        "id": "R6EoVZrtOxH_",
        "outputId": "780593be-db6b-46cd-f5a2-76e839cc736c"
      },
      "source": [
        "import pandas as pd\n",
        "import numpy as np\n",
        "data_copy=pd.read_csv(\"/content/sample_data/california_housing_test.csv\")\n",
        "\n",
        "column_type=data_copy.dtypes\n",
        "colnames_numerics_only = data_copy.select_dtypes(include=np.number).columns.tolist()\n",
        "print(colnames_numerics_only)\n",
        "colnames_char_only=data_copy.dtypes[data_copy.dtypes == \"object\"].columns.tolist()\n",
        "\n",
        "num_data=data_copy[colnames_numerics_only]\n",
        "char_data=data_copy[colnames_char_only]\n",
        "\n",
        " \n",
        "  "
      ],
      "execution_count": null,
      "outputs": [
        {
          "output_type": "stream",
          "text": [
            "['longitude', 'latitude', 'housing_median_age', 'total_rooms', 'total_bedrooms', 'population', 'households', 'median_income', 'median_house_value']\n",
            "   longitude  latitude  ...  median_income  median_house_value\n",
            "0    -122.05     37.37  ...         6.6085            344700.0\n",
            "1    -118.30     34.26  ...         3.5990            176500.0\n",
            "2    -117.81     33.78  ...         5.7934            270500.0\n",
            "3    -118.36     33.82  ...         6.1359            330000.0\n",
            "4    -119.67     36.33  ...         2.9375             81700.0\n",
            "\n",
            "[5 rows x 9 columns]\n"
          ],
          "name": "stdout"
        }
      ]
    },
    {
      "cell_type": "code",
      "metadata": {
        "colab": {
          "base_uri": "https://localhost:8080/"
        },
        "id": "mU0SAsHrvmAL",
        "outputId": "68a21bf7-c640-4983-ec67-33d7c53cca94"
      },
      "source": [
        "def Data_Preprocessing (filename) :\n",
        "  import pandas as pd\n",
        "  data=pd.read_csv(filename)\n",
        "  colnames_numerics_only = data.select_dtypes(include=np.number).columns.tolist()\n",
        "  #colnames_char_only=data.dtypes[data_copy.dtypes == \"object\"].columns.tolist()\n",
        "  columns=data.columns.values\n",
        "  Data_shape=data.shape\n",
        "  colnames_char_only = data.select_dtypes(include=['object']).columns.tolist()\n",
        "  num_data=data[colnames_numerics_only]\n",
        "  char_data=data[colnames_char_only]\n",
        "  #char_data=data_copy[colnames_char_only]\n",
        "  #print(data.head())\n",
        "  \n",
        "  #print(type(data['{}'.format(columns[1])]))\n",
        "  #print(data.dtypes)\n",
        "  column_type=data.dtypes\n",
        "  #for i in columns:\n",
        "    #b=type(data['{}'.format(i)])\n",
        "    #column_type.append(b)\n",
        "\n",
        "  #column_type=type(data.columns.values)\n",
        "  na=data.isnull().sum()\n",
        "  basic_info=[columns,column_type,na]\n",
        "  basic_info_data=pd.DataFrame(basic_info)\n",
        "  #print(basic_info_data.head())\n",
        "  #print(column_type)\n",
        "  import statistics\n",
        "  mean_cal=[]\n",
        "  mean_stdev=[]\n",
        "  mean_min=[]\n",
        "  mean_max=[]\n",
        "  for i in colnames_numerics_only :\n",
        "    b=statistics.mean(num_data['{}'.format(i)])\n",
        "    c=statistics.stdev(num_data['{}'.format(i)])\n",
        "    d=min(num_data['{}'.format(i)])\n",
        "    e=max(num_data['{}'.format(i)])\n",
        "    mean_cal.append(b)\n",
        "    mean_stdev.append(c)\n",
        "    mean_min.append(d)\n",
        "    mean_max.append(e)\n",
        "  proc_means=[mean_cal,mean_stdev,mean_min,mean_max]\n",
        "  proc_means_data=pd.DataFrame(proc_means,columns=colnames_numerics_only) \n",
        "  proc_means_datat=proc_means_data.T\n",
        "  proc_means_datat.columns=['mean_cal','mean_stdev','mean_min','mean_max']\n",
        "  print(proc_means_datat) \n",
        "  \n",
        "  #mean=statistics.mean(data1)\n",
        "\n",
        "\n",
        "Data_Preprocessing (\"/content/sample_data/california_housing_test.csv\")  "
      ],
      "execution_count": null,
      "outputs": [
        {
          "output_type": "stream",
          "text": [
            "                         mean_cal     mean_stdev    mean_min     mean_max\n",
            "longitude             -119.589200       1.994936   -124.1800    -114.4900\n",
            "latitude                35.635390       2.129670     32.5600      41.9200\n",
            "housing_median_age      28.845333      12.555396      1.0000      52.0000\n",
            "total_rooms           2599.578667    2155.593332      6.0000   30450.0000\n",
            "total_bedrooms         529.950667     415.654368      2.0000    5419.0000\n",
            "population            1402.798667    1030.543012      5.0000   11935.0000\n",
            "households             489.912000     365.422710      2.0000    4930.0000\n",
            "median_income            3.807272       1.854512      0.4999      15.0001\n",
            "median_house_value  205846.275000  113119.687470  22500.0000  500001.0000\n"
          ],
          "name": "stdout"
        }
      ]
    }
  ]
}